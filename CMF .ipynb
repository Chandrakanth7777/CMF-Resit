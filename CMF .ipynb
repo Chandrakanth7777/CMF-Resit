{
 "cells": [
  {
   "cell_type": "code",
   "execution_count": 2,
   "id": "aad642a9",
   "metadata": {},
   "outputs": [
    {
     "name": "stdout",
     "output_type": "stream",
     "text": [
      "Requirement already satisfied: yfinance in ./opt/anaconda3/lib/python3.9/site-packages (0.2.22)\n",
      "Requirement already satisfied: pandas>=1.3.0 in ./opt/anaconda3/lib/python3.9/site-packages (from yfinance) (1.4.2)\n",
      "Requirement already satisfied: multitasking>=0.0.7 in ./opt/anaconda3/lib/python3.9/site-packages (from yfinance) (0.0.11)\n",
      "Requirement already satisfied: pytz>=2022.5 in ./opt/anaconda3/lib/python3.9/site-packages (from yfinance) (2023.3)\n",
      "Requirement already satisfied: frozendict>=2.3.4 in ./opt/anaconda3/lib/python3.9/site-packages (from yfinance) (2.3.8)\n",
      "Requirement already satisfied: beautifulsoup4>=4.11.1 in ./opt/anaconda3/lib/python3.9/site-packages (from yfinance) (4.11.1)\n",
      "Requirement already satisfied: html5lib>=1.1 in ./opt/anaconda3/lib/python3.9/site-packages (from yfinance) (1.1)\n",
      "Requirement already satisfied: appdirs>=1.4.4 in ./opt/anaconda3/lib/python3.9/site-packages (from yfinance) (1.4.4)\n",
      "Requirement already satisfied: lxml>=4.9.1 in ./opt/anaconda3/lib/python3.9/site-packages (from yfinance) (4.9.2)\n",
      "Requirement already satisfied: numpy>=1.16.5 in ./opt/anaconda3/lib/python3.9/site-packages (from yfinance) (1.21.5)\n",
      "Requirement already satisfied: requests>=2.26 in ./opt/anaconda3/lib/python3.9/site-packages (from yfinance) (2.27.1)\n",
      "Requirement already satisfied: soupsieve>1.2 in ./opt/anaconda3/lib/python3.9/site-packages (from beautifulsoup4>=4.11.1->yfinance) (2.3.1)\n",
      "Requirement already satisfied: webencodings in ./opt/anaconda3/lib/python3.9/site-packages (from html5lib>=1.1->yfinance) (0.5.1)\n",
      "Requirement already satisfied: six>=1.9 in ./opt/anaconda3/lib/python3.9/site-packages (from html5lib>=1.1->yfinance) (1.16.0)\n",
      "Requirement already satisfied: python-dateutil>=2.8.1 in ./opt/anaconda3/lib/python3.9/site-packages (from pandas>=1.3.0->yfinance) (2.8.2)\n",
      "Requirement already satisfied: charset-normalizer~=2.0.0 in ./opt/anaconda3/lib/python3.9/site-packages (from requests>=2.26->yfinance) (2.0.4)\n",
      "Requirement already satisfied: urllib3<1.27,>=1.21.1 in ./opt/anaconda3/lib/python3.9/site-packages (from requests>=2.26->yfinance) (1.26.9)\n",
      "Requirement already satisfied: idna<4,>=2.5 in ./opt/anaconda3/lib/python3.9/site-packages (from requests>=2.26->yfinance) (3.3)\n",
      "Requirement already satisfied: certifi>=2017.4.17 in ./opt/anaconda3/lib/python3.9/site-packages (from requests>=2.26->yfinance) (2021.10.8)\n",
      "Note: you may need to restart the kernel to use updated packages.\n"
     ]
    }
   ],
   "source": [
    "pip install yfinance"
   ]
  },
  {
   "cell_type": "code",
   "execution_count": 3,
   "id": "3cf8be0e",
   "metadata": {},
   "outputs": [],
   "source": [
    "import numpy as np\n",
    "import pandas as pd\n",
    "import matplotlib.pyplot as plt\n",
    "import scipy.stats as si\n",
    "import yfinance as yf\n",
    "import os"
   ]
  },
  {
   "cell_type": "code",
   "execution_count": 4,
   "id": "53a7a547",
   "metadata": {},
   "outputs": [
    {
     "name": "stdout",
     "output_type": "stream",
     "text": [
      "[*********************100%***********************]  1 of 1 completed\n"
     ]
    }
   ],
   "source": [
    "data = yf.download('ADA-USD', start='2022-06-15', end='2023-06-15')"
   ]
  },
  {
   "cell_type": "code",
   "execution_count": 5,
   "id": "b61edb75",
   "metadata": {},
   "outputs": [
    {
     "data": {
      "text/html": [
       "<div>\n",
       "<style scoped>\n",
       "    .dataframe tbody tr th:only-of-type {\n",
       "        vertical-align: middle;\n",
       "    }\n",
       "\n",
       "    .dataframe tbody tr th {\n",
       "        vertical-align: top;\n",
       "    }\n",
       "\n",
       "    .dataframe thead th {\n",
       "        text-align: right;\n",
       "    }\n",
       "</style>\n",
       "<table border=\"1\" class=\"dataframe\">\n",
       "  <thead>\n",
       "    <tr style=\"text-align: right;\">\n",
       "      <th></th>\n",
       "      <th>Open</th>\n",
       "      <th>High</th>\n",
       "      <th>Low</th>\n",
       "      <th>Close</th>\n",
       "      <th>Adj Close</th>\n",
       "      <th>Volume</th>\n",
       "    </tr>\n",
       "    <tr>\n",
       "      <th>Date</th>\n",
       "      <th></th>\n",
       "      <th></th>\n",
       "      <th></th>\n",
       "      <th></th>\n",
       "      <th></th>\n",
       "      <th></th>\n",
       "    </tr>\n",
       "  </thead>\n",
       "  <tbody>\n",
       "    <tr>\n",
       "      <th>2022-06-15</th>\n",
       "      <td>0.484160</td>\n",
       "      <td>0.536792</td>\n",
       "      <td>0.450104</td>\n",
       "      <td>0.533296</td>\n",
       "      <td>0.533296</td>\n",
       "      <td>2335125416</td>\n",
       "    </tr>\n",
       "    <tr>\n",
       "      <th>2022-06-16</th>\n",
       "      <td>0.533529</td>\n",
       "      <td>0.544017</td>\n",
       "      <td>0.469018</td>\n",
       "      <td>0.475022</td>\n",
       "      <td>0.475022</td>\n",
       "      <td>1226235066</td>\n",
       "    </tr>\n",
       "    <tr>\n",
       "      <th>2022-06-17</th>\n",
       "      <td>0.475183</td>\n",
       "      <td>0.502739</td>\n",
       "      <td>0.473478</td>\n",
       "      <td>0.487392</td>\n",
       "      <td>0.487392</td>\n",
       "      <td>872710309</td>\n",
       "    </tr>\n",
       "    <tr>\n",
       "      <th>2022-06-18</th>\n",
       "      <td>0.487367</td>\n",
       "      <td>0.494669</td>\n",
       "      <td>0.423419</td>\n",
       "      <td>0.456182</td>\n",
       "      <td>0.456182</td>\n",
       "      <td>1214101657</td>\n",
       "    </tr>\n",
       "    <tr>\n",
       "      <th>2022-06-19</th>\n",
       "      <td>0.455970</td>\n",
       "      <td>0.487226</td>\n",
       "      <td>0.437213</td>\n",
       "      <td>0.484364</td>\n",
       "      <td>0.484364</td>\n",
       "      <td>1050008285</td>\n",
       "    </tr>\n",
       "  </tbody>\n",
       "</table>\n",
       "</div>"
      ],
      "text/plain": [
       "                Open      High       Low     Close  Adj Close      Volume\n",
       "Date                                                                     \n",
       "2022-06-15  0.484160  0.536792  0.450104  0.533296   0.533296  2335125416\n",
       "2022-06-16  0.533529  0.544017  0.469018  0.475022   0.475022  1226235066\n",
       "2022-06-17  0.475183  0.502739  0.473478  0.487392   0.487392   872710309\n",
       "2022-06-18  0.487367  0.494669  0.423419  0.456182   0.456182  1214101657\n",
       "2022-06-19  0.455970  0.487226  0.437213  0.484364   0.484364  1050008285"
      ]
     },
     "execution_count": 5,
     "metadata": {},
     "output_type": "execute_result"
    }
   ],
   "source": [
    "data.head()"
   ]
  },
  {
   "cell_type": "code",
   "execution_count": 6,
   "id": "0f995eb9",
   "metadata": {},
   "outputs": [
    {
     "data": {
      "text/html": [
       "<div>\n",
       "<style scoped>\n",
       "    .dataframe tbody tr th:only-of-type {\n",
       "        vertical-align: middle;\n",
       "    }\n",
       "\n",
       "    .dataframe tbody tr th {\n",
       "        vertical-align: top;\n",
       "    }\n",
       "\n",
       "    .dataframe thead th {\n",
       "        text-align: right;\n",
       "    }\n",
       "</style>\n",
       "<table border=\"1\" class=\"dataframe\">\n",
       "  <thead>\n",
       "    <tr style=\"text-align: right;\">\n",
       "      <th></th>\n",
       "      <th>Open</th>\n",
       "      <th>High</th>\n",
       "      <th>Low</th>\n",
       "      <th>Close</th>\n",
       "      <th>Adj Close</th>\n",
       "      <th>Volume</th>\n",
       "    </tr>\n",
       "    <tr>\n",
       "      <th>Date</th>\n",
       "      <th></th>\n",
       "      <th></th>\n",
       "      <th></th>\n",
       "      <th></th>\n",
       "      <th></th>\n",
       "      <th></th>\n",
       "    </tr>\n",
       "  </thead>\n",
       "  <tbody>\n",
       "    <tr>\n",
       "      <th>2023-06-10</th>\n",
       "      <td>0.295378</td>\n",
       "      <td>0.295378</td>\n",
       "      <td>0.230420</td>\n",
       "      <td>0.276194</td>\n",
       "      <td>0.276194</td>\n",
       "      <td>1293643754</td>\n",
       "    </tr>\n",
       "    <tr>\n",
       "      <th>2023-06-11</th>\n",
       "      <td>0.276047</td>\n",
       "      <td>0.279404</td>\n",
       "      <td>0.260312</td>\n",
       "      <td>0.272630</td>\n",
       "      <td>0.272630</td>\n",
       "      <td>507820127</td>\n",
       "    </tr>\n",
       "    <tr>\n",
       "      <th>2023-06-12</th>\n",
       "      <td>0.272583</td>\n",
       "      <td>0.285934</td>\n",
       "      <td>0.266694</td>\n",
       "      <td>0.275048</td>\n",
       "      <td>0.275048</td>\n",
       "      <td>431423925</td>\n",
       "    </tr>\n",
       "    <tr>\n",
       "      <th>2023-06-13</th>\n",
       "      <td>0.275054</td>\n",
       "      <td>0.287422</td>\n",
       "      <td>0.269893</td>\n",
       "      <td>0.274986</td>\n",
       "      <td>0.274986</td>\n",
       "      <td>319427367</td>\n",
       "    </tr>\n",
       "    <tr>\n",
       "      <th>2023-06-14</th>\n",
       "      <td>0.274990</td>\n",
       "      <td>0.276916</td>\n",
       "      <td>0.258221</td>\n",
       "      <td>0.263226</td>\n",
       "      <td>0.263226</td>\n",
       "      <td>244895035</td>\n",
       "    </tr>\n",
       "  </tbody>\n",
       "</table>\n",
       "</div>"
      ],
      "text/plain": [
       "                Open      High       Low     Close  Adj Close      Volume\n",
       "Date                                                                     \n",
       "2023-06-10  0.295378  0.295378  0.230420  0.276194   0.276194  1293643754\n",
       "2023-06-11  0.276047  0.279404  0.260312  0.272630   0.272630   507820127\n",
       "2023-06-12  0.272583  0.285934  0.266694  0.275048   0.275048   431423925\n",
       "2023-06-13  0.275054  0.287422  0.269893  0.274986   0.274986   319427367\n",
       "2023-06-14  0.274990  0.276916  0.258221  0.263226   0.263226   244895035"
      ]
     },
     "execution_count": 6,
     "metadata": {},
     "output_type": "execute_result"
    }
   ],
   "source": [
    "data.tail()"
   ]
  },
  {
   "cell_type": "code",
   "execution_count": 7,
   "id": "4505a4b4",
   "metadata": {},
   "outputs": [
    {
     "data": {
      "text/plain": [
       "Date\n",
       "2023-06-10    0.276194\n",
       "2023-06-11    0.272630\n",
       "2023-06-12    0.275048\n",
       "2023-06-13    0.274986\n",
       "2023-06-14    0.263226\n",
       "Name: Adj Close, dtype: float64"
      ]
     },
     "execution_count": 7,
     "metadata": {},
     "output_type": "execute_result"
    }
   ],
   "source": [
    "Ri_1 = data['Adj Close'] # I have created a new data value for less months range\n",
    "Ri_1.tail()"
   ]
  },
  {
   "cell_type": "code",
   "execution_count": 8,
   "id": "fe93094c",
   "metadata": {},
   "outputs": [
    {
     "data": {
      "text/plain": [
       "array([<AxesSubplot:xlabel='Date'>], dtype=object)"
      ]
     },
     "execution_count": 8,
     "metadata": {},
     "output_type": "execute_result"
    },
    {
     "data": {
      "image/png": "[encoded data removed]",
      "text/plain": [
       "<Figure size 720x432 with 1 Axes>"
      ]
     },
     "metadata": {
      "needs_background": "light"
     },
     "output_type": "display_data"
    }
   ],
   "source": [
    "Ri_1.plot(figsize=(10, 6), subplots=True)"
   ]
  },
  {
   "cell_type": "code",
   "execution_count": 9,
   "id": "db413056",
   "metadata": {},
   "outputs": [
    {
     "data": {
      "text/plain": [
       "Date\n",
       "2023-03-15    0.324637\n",
       "2023-03-16    0.325383\n",
       "2023-03-17    0.350524\n",
       "2023-03-18    0.337711\n",
       "2023-03-19    0.346010\n",
       "                ...   \n",
       "2023-06-09    0.295401\n",
       "2023-06-10    0.276194\n",
       "2023-06-11    0.272630\n",
       "2023-06-12    0.275048\n",
       "2023-06-13    0.274986\n",
       "Name: Adj Close, Length: 91, dtype: float64"
      ]
     },
     "execution_count": 9,
     "metadata": {},
     "output_type": "execute_result"
    }
   ],
   "source": [
    "ADAMin = Ri_1[-92:-1] # Here a new value shows 3 months price of Cardano, there i have used *92-1\n",
    "ADAMin"
   ]
  },
  {
   "cell_type": "code",
   "execution_count": 10,
   "id": "350679fe",
   "metadata": {},
   "outputs": [
    {
     "data": {
      "text/plain": [
       "Date\n",
       "2023-03-15         NaN\n",
       "2023-03-16    0.002295\n",
       "2023-03-17    0.074426\n",
       "2023-03-18   -0.037239\n",
       "2023-03-19    0.024277\n",
       "                ...   \n",
       "2023-06-09   -0.089805\n",
       "2023-06-10   -0.067230\n",
       "2023-06-11   -0.012988\n",
       "2023-06-12    0.008830\n",
       "2023-06-13   -0.000225\n",
       "Name: Adj Close, Length: 91, dtype: float64"
      ]
     },
     "execution_count": 10,
     "metadata": {},
     "output_type": "execute_result"
    }
   ],
   "source": [
    "log_return = np.log(ADAMin / ADAMin.shift(1)) # I have used Log return of 3 months because it is symmetric and used for Volatility financial calculation. \n",
    "log_return"
   ]
  },
  {
   "cell_type": "code",
   "execution_count": 11,
   "id": "e7f2a6be",
   "metadata": {},
   "outputs": [
    {
     "data": {
      "image/png": "[encoded data removed]",
      "text/plain": [
       "<Figure size 432x288 with 1 Axes>"
      ]
     },
     "metadata": {
      "needs_background": "light"
     },
     "output_type": "display_data"
    }
   ],
   "source": [
    "fig = plt.figure()\n",
    "plt.plot(log_return * 100)\n",
    "plt.xlabel('Days')\n",
    "plt.ylabel('Percentage % ')\n",
    "plt.title('Log Return');"
   ]
  },
  {
   "cell_type": "code",
   "execution_count": 12,
   "id": "5d0f293e",
   "metadata": {},
   "outputs": [
    {
     "name": "stdout",
     "output_type": "stream",
     "text": [
      "The annualised volatility is 51.48 %\n"
     ]
    }
   ],
   "source": [
    "vol = np.sqrt(252) * log_return.std() # I have changed the days value to 252 to calculate annual volatility\n",
    "print('The annualised volatility is', round(vol*100,2), '%')"
   ]
  },
  {
   "cell_type": "code",
   "execution_count": 13,
   "id": "c7f99faf",
   "metadata": {
    "scrolled": true
   },
   "outputs": [
    {
     "data": {
      "text/plain": [
       "0.27498599886894226"
      ]
     },
     "execution_count": 13,
     "metadata": {},
     "output_type": "execute_result"
    }
   ],
   "source": [
    "S0 = ADAMin[-1]      #Here i have calculated my recent spot price\n",
    "S0"
   ]
  },
  {
   "cell_type": "markdown",
   "id": "b1c239b2",
   "metadata": {},
   "source": [
    "\n",
    "# Monte Carlo "
   ]
  },
  {
   "cell_type": "code",
   "execution_count": 14,
   "id": "bd6afd28",
   "metadata": {},
   "outputs": [],
   "source": [
    "S = S0                  # spot price\n",
    "K = 0.50                # strike\n",
    "T = 3/12                # maturity \n",
    "r = 4.5/100           # risk free rate \n",
    "sigma = vol             # diffusion coefficient or volatility\n",
    "N = 3                   # number of periods or number of time steps  \n",
    "payoff = \"call\"         # payoff "
   ]
  },
  {
   "cell_type": "code",
   "execution_count": 15,
   "id": "4f21d870",
   "metadata": {},
   "outputs": [],
   "source": [
    "def mcs_simulation_np(m,n):       #m is the number of steps and n is the number of simulation\n",
    "    M = m\n",
    "    I = n\n",
    "    dt = T / M \n",
    "    S = np.zeros((M + 1, I))\n",
    "    S[0] = S0 \n",
    "    rn = np.random.standard_normal(S.shape) \n",
    "    for t in range(1, M + 1): \n",
    "        S[t] = S[t-1] * np.exp((r - sigma ** 2 / 2) * dt + sigma * np.sqrt(dt) * rn[t]) \n",
    "    return S"
   ]
  },
  {
   "cell_type": "code",
   "execution_count": 16,
   "id": "6817972b",
   "metadata": {},
   "outputs": [],
   "source": [
    "S = mcs_simulation_np(90,10000)"
   ]
  },
  {
   "cell_type": "code",
   "execution_count": 17,
   "id": "25331ada",
   "metadata": {},
   "outputs": [
    {
     "data": {
      "text/plain": [
       "Text(0.5, 1.0, 'Frequency distribution of the simulated end-of-preiod values')"
      ]
     },
     "execution_count": 17,
     "metadata": {},
     "output_type": "execute_result"
    },
    {
     "data": {
      "image/png": "[encoded data removed]",
      "text/plain": [
       "<Figure size 432x288 with 1 Axes>"
      ]
     },
     "metadata": {
      "needs_background": "light"
     },
     "output_type": "display_data"
    }
   ],
   "source": [
    "import matplotlib.pyplot as plt\n",
    "n, bins, patches = plt.hist(x=S[-1,:], bins='auto', color='#0504aa',alpha=0.7, rwidth=0.85)\n",
    "\n",
    "plt.grid(axis='y', alpha=0.75)\n",
    "plt.xlabel('S_T')\n",
    "plt.ylabel('Frequency')\n",
    "plt.title('Frequency distribution of the simulated end-of-preiod values')"
   ]
  },
  {
   "cell_type": "code",
   "execution_count": 18,
   "id": "5bed49b4",
   "metadata": {},
   "outputs": [
    {
     "name": "stdout",
     "output_type": "stream",
     "text": [
      "European call 0.0004597765555705891\n"
     ]
    }
   ],
   "source": [
    "p = np.mean(np.maximum(S[-1,:] - K,0))\n",
    "print('European call', str(p))"
   ]
  },
  {
   "cell_type": "markdown",
   "id": "45e963a7",
   "metadata": {},
   "source": [
    "# Black Scholes "
   ]
  },
  {
   "cell_type": "code",
   "execution_count": 19,
   "id": "11a7ba99",
   "metadata": {},
   "outputs": [],
   "source": [
    "def euro_option_bs(S, K, T, r, vol, payoff):\n",
    "    \n",
    "    #S: spot price\n",
    "    #K: strike price\n",
    "    #T: time to maturity\n",
    "    #r: risk free rate\n",
    "    #vol: volatility of underlying asset\n",
    "    #payoff: call or put\n",
    "    \n",
    "    d1 = (np.log(S / K) + (r + 0.5 * vol ** 2) * T) / (vol * np.sqrt(T))\n",
    "    d2 = (np.log(S / K) + (r - 0.5 * vol ** 2) * T) / (vol * np.sqrt(T))\n",
    "    if payoff == \"call\":\n",
    "        option_value = S * si.norm.cdf(d1, 0.0, 1.0) - K * np.exp(-r * T) * si.norm.cdf(d2, 0.0, 1.0)\n",
    "    elif payoff == \"put\":\n",
    "        option_value = - S * si.norm.cdf(-d1, 0.0, 1.0) + K * np.exp(-r * T) * si.norm.cdf(-d2, 0.0, 1.0)\n",
    "    \n",
    "    return option_value"
   ]
  },
  {
   "cell_type": "code",
   "execution_count": 20,
   "id": "2e3f42a8",
   "metadata": {},
   "outputs": [
    {
     "name": "stdout",
     "output_type": "stream",
     "text": [
      "European put option price using BSM is $ 0.0003654051040819792\n"
     ]
    }
   ],
   "source": [
    "bsp = euro_option_bs(S0,0.50,3/12,4.353/100,vol, \"call\")\n",
    "print('European put option price using BSM is $', bsp)"
   ]
  },
  {
   "cell_type": "markdown",
   "id": "ca6ab825",
   "metadata": {},
   "source": [
    "# Greeks"
   ]
  },
  {
   "cell_type": "markdown",
   "id": "a0e1f52e",
   "metadata": {},
   "source": [
    "# Delta"
   ]
  },
  {
   "cell_type": "code",
   "execution_count": 21,
   "id": "dfa86a3a",
   "metadata": {},
   "outputs": [],
   "source": [
    "from mpl_toolkits.mplot3d import Axes3D"
   ]
  },
  {
   "cell_type": "code",
   "execution_count": 22,
   "id": "09421da3",
   "metadata": {},
   "outputs": [],
   "source": [
    "def delta(S, K, T, r, q, vol, payoff):\n",
    "    \n",
    "    d1 = (np.log(S / K) + (r - q + 0.5 * vol ** 2) * T) / (vol * np.sqrt(T))\n",
    "    d2 = (np.log(S / K) + (r - q - 0.5 * vol ** 2) * T) / (vol * np.sqrt(T))\n",
    "    if payoff == \"call\":\n",
    "        delta = np.exp(- q * T) * si.norm.cdf(d1, 0.0, 1.0)\n",
    "    return delta"
   ]
  },
  {
   "cell_type": "code",
   "execution_count": 23,
   "id": "242ebcff",
   "metadata": {},
   "outputs": [],
   "source": [
    "S = S0                  # spot stock price\n",
    "K = 0.50                # strike\n",
    "T = 3/12                # maturity \n",
    "r = 4.353/100           # risk free rate \n",
    "sigma = vol             # diffusion coefficient or volatility\n",
    "N = 3                   # number of periods or number of time steps  \n",
    "payoff = \"call\"         # payoff "
   ]
  },
  {
   "cell_type": "code",
   "execution_count": 24,
   "id": "1106546d",
   "metadata": {},
   "outputs": [
    {
     "ename": "NameError",
     "evalue": "name 'q' is not defined",
     "output_type": "error",
     "traceback": [
      "\u001b[0;31m---------------------------------------------------------------------------\u001b[0m",
      "\u001b[0;31mNameError\u001b[0m                                 Traceback (most recent call last)",
      "Input \u001b[0;32mIn [24]\u001b[0m, in \u001b[0;36m<cell line: 1>\u001b[0;34m()\u001b[0m\n\u001b[0;32m----> 1\u001b[0m delta(S, K, T, r, \u001b[43mq\u001b[49m, vol, payoff)\n",
      "\u001b[0;31mNameError\u001b[0m: name 'q' is not defined"
     ]
    }
   ],
   "source": [
    "delta(S, K, T, r, q, vol, payoff)"
   ]
  },
  {
   "cell_type": "code",
   "execution_count": null,
   "id": "3ac6c8c8",
   "metadata": {},
   "outputs": [],
   "source": [
    "d = delta(S, K, T, r, q, vol, payoff)\n",
    "print('The value of Delta is', d.round(4),'.','If the stock price increase 1 dollar, then the value of the option will increase $', d.round(4), '.')"
   ]
  },
  {
   "cell_type": "code",
   "execution_count": null,
   "id": "d7399be1",
   "metadata": {},
   "outputs": [],
   "source": [
    "S = np.linspace(0.1, 1, 10)\n",
    "T = np.linspace(1/12, 2/12, 11)\n",
    "Delta = np.zeros((len(T),len(S)))\n",
    "for j in range(len(S)):\n",
    "    for i in range(len(T)):\n",
    "        Delta[i,j] = delta(S[j], K, T[i], r , q, vol, 'call')"
   ]
  },
  {
   "cell_type": "code",
   "execution_count": null,
   "id": "4857d4d1",
   "metadata": {},
   "outputs": [],
   "source": [
    "\n",
    "fig = plt.figure(figsize=(10, 6))\n",
    "ax = fig.add_subplot(projection='3d')\n",
    "S, T = np.meshgrid(S, T)\n",
    "surf = ax.plot_surface(S, T, Delta, rstride=2, cstride=2, cmap=plt.cm.coolwarm, linewidth=0.5, antialiased=True)\n",
    "ax.set_xlabel('Stock Price')\n",
    "ax.set_ylabel('Time to Expiry')\n",
    "ax.set_zlabel('Delta')\n",
    "fig.colorbar(surf, shrink=0.5, aspect=5);"
   ]
  },
  {
   "cell_type": "markdown",
   "id": "080bc2b8",
   "metadata": {},
   "source": [
    "# Gamma"
   ]
  },
  {
   "cell_type": "code",
   "execution_count": null,
   "id": "a552abd7",
   "metadata": {},
   "outputs": [],
   "source": [
    "def gamma(S, K, T, r, q, vol, payoff):\n",
    "    \n",
    "    d1 = (np.log(S / K) + (r - q + 0.5 * vol ** 2) * T) / (vol * np.sqrt(T))\n",
    "    gamma = np.exp(- r * T) * si.norm.pdf(d1, 0.0, 1.0) / (vol * S * np.sqrt(T))\n",
    "    \n",
    "    return gamma"
   ]
  },
  {
   "cell_type": "code",
   "execution_count": null,
   "id": "d4ccf7fd",
   "metadata": {},
   "outputs": [],
   "source": [
    "S = S0                  # spot stock price\n",
    "K = 0.50                # strike\n",
    "T = 3/12                # maturity \n",
    "r = 4.353/100           # risk free rate \n",
    "sigma = vol             # diffusion coefficient or volatility\n",
    "N = 3                   # number of periods or number of time steps  \n",
    "payoff = \"call\"         # payoff "
   ]
  },
  {
   "cell_type": "code",
   "execution_count": null,
   "id": "d8afa26d",
   "metadata": {},
   "outputs": [],
   "source": [
    "g = gamma(S, K, T, r, q, vol, payoff)\n",
    "print('The value of Gamma is', g.round(4),'.','If the stock price increase 1 dollar, then the value of the option will increase $', g.round(4), '.')"
   ]
  },
  {
   "cell_type": "code",
   "execution_count": null,
   "id": "a219e6aa",
   "metadata": {},
   "outputs": [],
   "source": [
    "S = np.linspace(0.3, 1, 10)\n",
    "T = np.linspace(1/12, 2/12, 11)\n",
    "Gamma = np.zeros((len(T),len(S)))\n",
    "for j in range(len(S)):\n",
    "    for i in range(len(T)):\n",
    "        Gamma[i,j] = gamma(S[j], K, T[i], r, q, vol, 'call')"
   ]
  },
  {
   "cell_type": "code",
   "execution_count": null,
   "id": "e1848d3a",
   "metadata": {},
   "outputs": [],
   "source": [
    "fig = plt.figure(figsize=(10, 6))\n",
    "ax = fig.add_subplot(projection='3d')\n",
    "S,T  = np.meshgrid(S,T)\n",
    "surf = ax.plot_surface(S,T, Gamma, rstride=2, cstride=2, cmap=plt.cm.coolwarm, linewidth=0.5, antialiased=True)\n",
    "ax.set_xlabel('Stock Price')\n",
    "ax.set_ylabel('Time to Expiry')\n",
    "ax.set_zlabel('Gamma')\n",
    "fig.colorbar(surf, shrink=0.5, aspect=5);"
   ]
  },
  {
   "cell_type": "markdown",
   "id": "5a57c900",
   "metadata": {},
   "source": [
    "# Speed"
   ]
  },
  {
   "cell_type": "code",
   "execution_count": null,
   "id": "61801279",
   "metadata": {},
   "outputs": [],
   "source": [
    "def speed(S, K, T, r, q, vol, payoff):\n",
    "    \n",
    "    d1 = (np.log(S / K) + (r - q + 0.5 * vol ** 2) * T) / (vol * np.sqrt(T))\n",
    "    speed = - np.exp(- q * T) * si.norm.pdf(d1, 0.0, 1.0) / ((vol **2) * (S**2) * np.sqrt(T)) * (d1 + vol * np.sqrt(T))\n",
    "    \n",
    "    return speed"
   ]
  },
  {
   "cell_type": "code",
   "execution_count": null,
   "id": "1f1ad529",
   "metadata": {},
   "outputs": [],
   "source": [
    "S = S0                  # spot stock price\n",
    "K = 0.50                # strike\n",
    "T = 3/12                # maturity \n",
    "r = 4.353/100           # risk free rate \n",
    "sigma = vol             # diffusion coefficient or volatility\n",
    "N = 3                   # number of periods or number of time steps  \n",
    "payoff = \"call\"         # payoff "
   ]
  },
  {
   "cell_type": "code",
   "execution_count": null,
   "id": "f114ae24",
   "metadata": {},
   "outputs": [],
   "source": [
    "sp = speed(S, K, T, r, q, vol, payoff)\n",
    "print('The value of Speed is', sp.round(4),'.','If the stock price increase 1 dollar, then the value of gamma will increase ', sp.round(4), '.')"
   ]
  },
  {
   "cell_type": "code",
   "execution_count": null,
   "id": "0f9aaf9e",
   "metadata": {},
   "outputs": [],
   "source": [
    "S = np.linspace(0.3, 1, 10)\n",
    "T = np.linspace(1/12, 2/12, 11)\n",
    "Speed = np.zeros((len(T),len(S)))\n",
    "for j in range(len(S)):\n",
    "    for i in range(len(T)):\n",
    "        Speed[i,j] = speed(S[j], K, T[i], r, q, vol, 'call')"
   ]
  },
  {
   "cell_type": "code",
   "execution_count": null,
   "id": "67f3ccf6",
   "metadata": {
    "scrolled": true
   },
   "outputs": [],
   "source": [
    "fig = plt.figure(figsize=(10, 6))\n",
    "ax = fig.add_subplot(projection='3d')\n",
    "S,T  = np.meshgrid(S,T)\n",
    "surf = ax.plot_surface(S,T, Speed, rstride=2, cstride=2, cmap=plt.cm.coolwarm, linewidth=0.5, antialiased=True)\n",
    "ax.set_xlabel('Stock Price')\n",
    "ax.set_ylabel('Time to Expiry')\n",
    "ax.set_zlabel('Speed')\n",
    "fig.colorbar(surf, shrink=0.5, aspect=5);\n"
   ]
  },
  {
   "cell_type": "markdown",
   "id": "2534527f",
   "metadata": {},
   "source": [
    "# Vega"
   ]
  },
  {
   "cell_type": "code",
   "execution_count": null,
   "id": "1605952c",
   "metadata": {},
   "outputs": [],
   "source": [
    "def vega(S, K, T, r, q, vol, payoff):\n",
    "    \n",
    "    d1 = (np.log(S / K) + (r - q + 0.5 * vol ** 2) * T) / (vol * np.sqrt(T))\n",
    "    vega = S * np.sqrt(T) * np.exp(-q * T) * si.norm.pdf(d1, 0.0, 1.0)\n",
    "    \n",
    "    return vega"
   ]
  },
  {
   "cell_type": "code",
   "execution_count": null,
   "id": "9bc06e63",
   "metadata": {},
   "outputs": [],
   "source": [
    "S = S0                  # spot stock price\n",
    "K = 0.50                # strike\n",
    "T = 3/12                # maturity \n",
    "r = 4.353/100           # risk free rate \n",
    "sigma = vol             # diffusion coefficient or volatility\n",
    "N = 3                   # number of periods or number of time steps  \n",
    "payoff = \"call\"         # payoff "
   ]
  },
  {
   "cell_type": "code",
   "execution_count": null,
   "id": "bec35002",
   "metadata": {},
   "outputs": [],
   "source": [
    "v = vega(S, K, T, r, q, vol, payoff)\n",
    "print('The value of Vega is', v.round(4),'.','If the volatility increases 1%, then the value of the option will increase $', v.round(4)*0.01, '.')"
   ]
  },
  {
   "cell_type": "code",
   "execution_count": null,
   "id": "36da87a9",
   "metadata": {},
   "outputs": [],
   "source": [
    "S = np.linspace(0.3, 1, 10)\n",
    "T = np.linspace(1/12, 2/12, 11)\n",
    "Vega = np.zeros((len(T),len(S)))\n",
    "for j in range(len(S)):\n",
    "    for i in range(len(T)):\n",
    "        Vega[i,j] = vega(S[j], K, T[i], r, q, vol, 'call')"
   ]
  },
  {
   "cell_type": "code",
   "execution_count": null,
   "id": "02247f99",
   "metadata": {},
   "outputs": [],
   "source": [
    "fig = plt.figure(figsize=(10, 6))\n",
    "ax = fig.add_subplot(projection='3d')\n",
    "S, T = np.meshgrid(S, T)\n",
    "surf = ax.plot_surface(S, T, Vega, rstride=2, cstride=2, cmap=plt.cm.coolwarm, linewidth=0.5, antialiased=True)\n",
    "ax.set_xlabel('Stock Price')\n",
    "ax.set_ylabel('Time to Expiry')\n",
    "ax.set_zlabel('Vega')\n",
    "fig.colorbar(surf, shrink=0.5, aspect=5);\n"
   ]
  },
  {
   "cell_type": "markdown",
   "id": "1a8597c1",
   "metadata": {},
   "source": [
    "# Rho"
   ]
  },
  {
   "cell_type": "code",
   "execution_count": null,
   "id": "b13c5e3b",
   "metadata": {},
   "outputs": [],
   "source": [
    "def rho(S, K, T, r, q, vol, payoff):\n",
    "    \n",
    "    d1 = (np.log(S / K) + (r - q + 0.5 * vol ** 2) * T) / (vol * np.sqrt(T))\n",
    "    d2 = (np.log(S / K) + (r - q - 0.5 * vol ** 2) * T) / (vol * np.sqrt(T))\n",
    "    if payoff == \"call\":\n",
    "        rho =  K * T * np.exp(-r * T) * si.norm.cdf(d2, 0.0, 1.0)\n",
    "    elif payoff == \"put\":\n",
    "        rho = - K * T * np.exp(-r * T) * si.norm.cdf(-d2, 0.0, 1.0)\n",
    "    \n",
    "    return rho"
   ]
  },
  {
   "cell_type": "code",
   "execution_count": null,
   "id": "949c6ad5",
   "metadata": {},
   "outputs": [],
   "source": [
    "S = S0                  # spot stock price\n",
    "K = 0.50                # strike\n",
    "T = 3/12                # maturity \n",
    "r = 4.353/100           # risk free rate \n",
    "sigma = vol             # diffusion coefficient or volatility\n",
    "N = 3                   # number of periods or number of time steps  \n",
    "payoff = \"call\"         # payoff "
   ]
  },
  {
   "cell_type": "code",
   "execution_count": null,
   "id": "02e09fb9",
   "metadata": {},
   "outputs": [],
   "source": [
    "rh = rho(S, K, T, r, q, vol, payoff)\n",
    "rh1 = rh/100"
   ]
  },
  {
   "cell_type": "code",
   "execution_count": null,
   "id": "4dafef93",
   "metadata": {},
   "outputs": [],
   "source": [
    "print('The value of Rho is', rh.round(4),'.','If the interest rate by 1 percent, then the value of the option will increase $', rh1.round(4), '.')"
   ]
  },
  {
   "cell_type": "code",
   "execution_count": null,
   "id": "30b8b43c",
   "metadata": {},
   "outputs": [],
   "source": [
    "S = np.linspace(0.3, 1, 10)\n",
    "T = np.linspace(1/12, 2/12, 11)\n",
    "Rho = np.zeros((len(T),len(S)))\n",
    "for j in range(len(S)):\n",
    "    for i in range(len(T)):\n",
    "        Rho[i,j] = rho(S[j], K, T[i], r, q, vol, 'call')"
   ]
  },
  {
   "cell_type": "code",
   "execution_count": null,
   "id": "710b1b36",
   "metadata": {},
   "outputs": [],
   "source": [
    "fig = plt.figure(figsize=(10, 6))\n",
    "ax = fig.add_subplot(projection='3d')\n",
    "S, T = np.meshgrid(S, T)\n",
    "surf = ax.plot_surface(S, T, Rho, rstride=2, cstride=2, cmap=plt.cm.coolwarm, linewidth=0.5, antialiased=True)\n",
    "ax.set_xlabel('Stock Price')\n",
    "ax.set_ylabel('Time to Expiry')\n",
    "ax.set_zlabel('Rho')\n",
    "fig.colorbar(surf, shrink=0.5, aspect=5);"
   ]
  },
  {
   "cell_type": "markdown",
   "id": "e171131f",
   "metadata": {},
   "source": [
    "# END"
   ]
  },
  {
   "cell_type": "code",
   "execution_count": null,
   "id": "7d711efb",
   "metadata": {},
   "outputs": [],
   "source": []
  }
 ],
 "metadata": {
  "kernelspec": {
   "display_name": "Python 3 (ipykernel)",
   "language": "python",
   "name": "python3"
  },
  "language_info": {
   "codemirror_mode": {
    "name": "ipython",
    "version": 3
   },
   "file_extension": ".py",
   "mimetype": "text/x-python",
   "name": "python",
   "nbconvert_exporter": "python",
   "pygments_lexer": "ipython3",
   "version": "3.9.12"
  }
 },
 "nbformat": 4,
 "nbformat_minor": 5
}
